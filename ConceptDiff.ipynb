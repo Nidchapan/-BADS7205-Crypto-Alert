{
 "cells": [
  {
   "cell_type": "code",
   "execution_count": 1,
   "metadata": {
    "id": "cPBgjQyDFnE5"
   },
   "outputs": [],
   "source": [
    "# !pip install -U scikit-multiflow"
   ]
  },
  {
   "cell_type": "code",
   "execution_count": 2,
   "metadata": {
    "executionInfo": {
     "elapsed": 417,
     "status": "ok",
     "timestamp": 1636555675158,
     "user": {
      "displayName": "Nidchapan Nitisukanan",
      "photoUrl": "https://lh3.googleusercontent.com/a/default-user=s64",
      "userId": "14680492327009513765"
     },
     "user_tz": -420
    },
    "id": "uIN-52gFFqTs"
   },
   "outputs": [],
   "source": [
    "from skmultiflow.drift_detection import KSWIN\n",
    "import numpy as np\n",
    "import matplotlib.pyplot as plt\n",
    "from importlib import reload\n",
    "# reload(plt)\n",
    "# %matplotlib inline"
   ]
  },
  {
   "cell_type": "code",
   "execution_count": 3,
   "metadata": {
    "colab": {
     "base_uri": "https://localhost:8080/",
     "height": 331
    },
    "executionInfo": {
     "elapsed": 7,
     "status": "ok",
     "timestamp": 1636555676685,
     "user": {
      "displayName": "Nidchapan Nitisukanan",
      "photoUrl": "https://lh3.googleusercontent.com/a/default-user=s64",
      "userId": "14680492327009513765"
     },
     "user_tz": -420
    },
    "id": "T2Hkh67lHFMO",
    "outputId": "502da315-2ac3-4972-dbea-59517ebef304"
   },
   "outputs": [
    {
     "name": "stderr",
     "output_type": "stream",
     "text": [
      "C:\\anaconda3\\lib\\site-packages\\seaborn\\_decorators.py:36: FutureWarning: Pass the following variables as keyword args: x, y. From version 0.12, the only valid positional argument will be `data`, and passing other arguments without an explicit keyword will result in an error or misinterpretation.\n",
      "  warnings.warn(\n"
     ]
    },
    {
     "data": {
      "image/png": "[encoded data removed]",
      "text/plain": [
       "<Figure size 432x288 with 1 Axes>"
      ]
     },
     "metadata": {
      "needs_background": "light"
     },
     "output_type": "display_data"
    }
   ],
   "source": [
    "import pandas as pd\n",
    "import matplotlib.pyplot as plt\n",
    "import seaborn as sns\n",
    "dp = pd.read_csv(\"SHIB-USD.csv\")\n",
    "r1 = dp['Close'].to_list()\n",
    "x=list(range(1,len(r1)+1))\n",
    "sns.lineplot(x, r1)\n",
    "# plt.xticks(np.arange(0, max(x)+10,10))\n",
    "plt.show()\n",
    "stream =np.array(r1)"
   ]
  },
  {
   "cell_type": "markdown",
   "metadata": {},
   "source": [
    "# DDM"
   ]
  },
  {
   "cell_type": "code",
   "execution_count": 4,
   "metadata": {},
   "outputs": [
    {
     "name": "stdout",
     "output_type": "stream",
     "text": [
      "Change detected at index 139\n",
      "Change detected at index 161\n"
     ]
    }
   ],
   "source": [
    "from skmultiflow.drift_detection import DDM\n",
    "drift_detector = DDM(min_num_instances=15, warning_level=2, out_control_level=1)\n",
    "for i, val in enumerate(stream):\n",
    "    drift_detector.add_element(val)\n",
    "    if drift_detector.detected_change():\n",
    "        print('Change detected at index {}'.format(i))\n",
    "        drift_detector.reset()"
   ]
  },
  {
   "cell_type": "markdown",
   "metadata": {},
   "source": [
    "# KSWIN"
   ]
  },
  {
   "cell_type": "code",
   "execution_count": 5,
   "metadata": {
    "colab": {
     "base_uri": "https://localhost:8080/"
    },
    "executionInfo": {
     "elapsed": 368,
     "status": "ok",
     "timestamp": 1636555679330,
     "user": {
      "displayName": "Nidchapan Nitisukanan",
      "photoUrl": "https://lh3.googleusercontent.com/a/default-user=s64",
      "userId": "14680492327009513765"
     },
     "user_tz": -420
    },
    "id": "ReuP-Bu0MKCn",
    "outputId": "41494a11-c0f0-43fc-d655-5f5c874c3e02"
   },
   "outputs": [
    {
     "name": "stdout",
     "output_type": "stream",
     "text": [
      "Change detected at index 26\n",
      "Change detected at index 47\n",
      "Change detected at index 63\n",
      "Change detected at index 88\n",
      "Change detected at index 106\n",
      "Change detected at index 134\n",
      "Change detected at index 150\n",
      "Change detected at index 166\n"
     ]
    }
   ],
   "source": [
    "drift_detector = KSWIN(alpha=0.005, window_size=15, stat_size=10, data=None)\n",
    "\n",
    "for i, val in enumerate(stream):\n",
    "    drift_detector.add_element(val)\n",
    "    if drift_detector.detected_change():\n",
    "        print('Change detected at index {}'.format(i))\n",
    "        drift_detector.reset()"
   ]
  },
  {
   "cell_type": "markdown",
   "metadata": {},
   "source": [
    "# others"
   ]
  },
  {
   "cell_type": "code",
   "execution_count": 6,
   "metadata": {},
   "outputs": [
    {
     "name": "stdout",
     "output_type": "stream",
     "text": [
      "\n",
      "ADWIN\n",
      "\n",
      "DDM\n",
      "Change detected at index 139\n",
      "Change detected at index 161\n",
      "\n",
      "EDDM\n",
      "\n",
      "HDDM_A\n",
      "\n",
      "HDDM_W\n",
      "\n",
      "KSWIN\n",
      "Change detected at index 26\n",
      "Change detected at index 47\n",
      "Change detected at index 63\n",
      "Change detected at index 88\n",
      "Change detected at index 106\n",
      "Change detected at index 134\n",
      "Change detected at index 150\n",
      "Change detected at index 166\n",
      "\n",
      "PageHinkley\n"
     ]
    }
   ],
   "source": [
    "from skmultiflow.drift_detection.adwin import ADWIN\n",
    "drift_detector = ADWIN()\n",
    "print(\"\\nADWIN\")\n",
    "for i, val in enumerate(stream):\n",
    "    drift_detector.add_element(val)\n",
    "    if drift_detector.detected_change():\n",
    "        print('Change detected at index {}'.format(i))\n",
    "        drift_detector.reset()\n",
    "        \n",
    "        \n",
    "from skmultiflow.drift_detection import DDM\n",
    "drift_detector = DDM(min_num_instances=15, warning_level=2, out_control_level=1)\n",
    "print(\"\\nDDM\")\n",
    "for i, val in enumerate(stream):\n",
    "    drift_detector.add_element(val)\n",
    "    if drift_detector.detected_change():\n",
    "        print('Change detected at index {}'.format(i))\n",
    "        drift_detector.reset()\n",
    "        \n",
    "        \n",
    "from skmultiflow.drift_detection.eddm import EDDM\n",
    "drift_detector = EDDM()\n",
    "print(\"\\nEDDM\")\n",
    "for i, val in enumerate(stream):\n",
    "    drift_detector.add_element(val)\n",
    "    if drift_detector.detected_change():\n",
    "        print('Change detected at index {}'.format(i))\n",
    "        drift_detector.reset()\n",
    "        \n",
    "from skmultiflow.drift_detection.hddm_a import HDDM_A\n",
    "drift_detector = HDDM_A(drift_confidence=0.001, warning_confidence=0.005, two_side_option=False)\n",
    "print(\"\\nHDDM_A\")\n",
    "for i, val in enumerate(stream):\n",
    "    drift_detector.add_element(val)\n",
    "    if drift_detector.detected_change():\n",
    "        print('Change detected at index {}'.format(i))\n",
    "        drift_detector.reset()\n",
    "    \n",
    "\n",
    "from skmultiflow.drift_detection.hddm_w import HDDM_W\n",
    "drift_detector = HDDM_W(drift_confidence=0.001, warning_confidence=0.005, lambda_option=0.005, two_side_option=False)\n",
    "print(\"\\nHDDM_W\")\n",
    "for i, val in enumerate(stream):\n",
    "    drift_detector.add_element(val)\n",
    "    if drift_detector.detected_change():\n",
    "        print('Change detected at index {}'.format(i))\n",
    "        drift_detector.reset()\n",
    "\n",
    "        \n",
    "from skmultiflow.drift_detection import KSWIN\n",
    "drift_detector = KSWIN(alpha=0.005, window_size=15, stat_size=10, data=None)\n",
    "print(\"\\nKSWIN\")\n",
    "for i, val in enumerate(stream):\n",
    "    drift_detector.add_element(val)\n",
    "    if drift_detector.detected_change():\n",
    "        print('Change detected at index {}'.format(i))\n",
    "        drift_detector.reset()\n",
    "        \n",
    "\n",
    "from skmultiflow.drift_detection import PageHinkley\n",
    "drift_detector = PageHinkley(min_instances=15, delta=0.0005, threshold=2, alpha=0.9999)\n",
    "print(\"\\nPageHinkley\")\n",
    "for i, val in enumerate(stream):\n",
    "    drift_detector.add_element(val)\n",
    "    if drift_detector.detected_change():\n",
    "        print('Change detected at index {}'.format(i))\n",
    "        drift_detector.reset()"
   ]
  }
 ],
 "metadata": {
  "colab": {
   "authorship_tag": "ABX9TyN+bj+58c2R+zatvLp1LGlv",
   "name": "CD.ipynb",
   "provenance": []
  },
  "kernelspec": {
   "display_name": "Python 3",
   "language": "python",
   "name": "python3"
  },
  "language_info": {
   "codemirror_mode": {
    "name": "ipython",
    "version": 3
   },
   "file_extension": ".py",
   "mimetype": "text/x-python",
   "name": "python",
   "nbconvert_exporter": "python",
   "pygments_lexer": "ipython3",
   "version": "3.8.5"
  }
 },
 "nbformat": 4,
 "nbformat_minor": 1
}
