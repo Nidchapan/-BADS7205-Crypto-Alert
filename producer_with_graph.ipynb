{
 "cells": [
  {
   "cell_type": "code",
   "execution_count": null,
   "metadata": {},
   "outputs": [],
   "source": [
    "from time import sleep\n",
    "from json import dumps\n",
    "from kafka import KafkaProducer\n",
    "import requests, time, json\n",
    "import time\n",
    "import plotly.graph_objects as go\n",
    "import pandas as pd"
   ]
  },
  {
   "cell_type": "markdown",
   "metadata": {},
   "source": [
    "# BTCUSDT"
   ]
  },
  {
   "cell_type": "code",
   "execution_count": null,
   "metadata": {},
   "outputs": [],
   "source": [
    "fig = go.FigureWidget()\n",
    "fig.layout.title = 'BTCUSD'\n",
    "fig.add_scatter()\n",
    "fig"
   ]
  },
  {
   "cell_type": "code",
   "execution_count": null,
   "metadata": {},
   "outputs": [],
   "source": [
    "kafka_topic_name = \"ChemEng\"\n",
    "kafka_bootstrap_servers = 'localhost:9092'\n",
    "kafka_bootstrap_servers = 'xxxxxxxxxxx.compute.amazonaws.com:xxxxxxxxx'\n",
    "\n",
    "producer = KafkaProducer(bootstrap_servers=[kafka_bootstrap_servers],\n",
    "                         value_serializer=lambda x: \n",
    "                         dumps(x).encode('utf-8'))\n",
    "\n",
    "time_start = time.time()\n",
    "time_count = 0\n",
    "ind = 0\n",
    "df = pd.DataFrame()\n",
    "while time_count<30:\n",
    "    time_current = time.time()\n",
    "    prices = json.loads(requests.get(\"https://api.binance.com/api/v3/ticker/price\").content)\n",
    "    for i in prices:\n",
    "        if i['symbol'] =='BTCUSDT':\n",
    "            data = {'time':time.strftime('%d/%m/%y [%H:%M:%S]'), 'price':i['price']}\n",
    "            data = dumps(data)\n",
    "            data = str(ind)+':'+str(i['price'])\n",
    "            # data = i['price']\n",
    "#             print(time.strftime('%d/%m/%y [%H:%M:%S]'),i['price'])\n",
    "            producer.send(kafka_topic_name, value=data)\n",
    "            producer.flush()\n",
    "\n",
    "            df = df.append(pd.DataFrame({'price': i['price'], 'time':time_count}, index=[0]))\n",
    "            fig.data[0].x = df.time\n",
    "            fig.data[0].y = df.price\n",
    "\n",
    "    ind+=1     \n",
    "    time_count = time_current-time_start\n",
    "print(\"producer send done!\",ind)"
   ]
  },
  {
   "cell_type": "markdown",
   "metadata": {},
   "source": [
    "# ASSUME base on SHIB-USD"
   ]
  },
  {
   "cell_type": "code",
   "execution_count": null,
   "metadata": {},
   "outputs": [],
   "source": [
    "dp = pd.read_csv(\"SHIB-USD.csv\")\n",
    "r1 = dp['Close'].to_list()"
   ]
  },
  {
   "cell_type": "code",
   "execution_count": null,
   "metadata": {},
   "outputs": [],
   "source": [
    "import matplotlib.pyplot as plt\n",
    "import seaborn as sns\n",
    "sns.lineplot(list(range(1,len(r1)+1)), r1)\n",
    "plt.show()"
   ]
  },
  {
   "cell_type": "code",
   "execution_count": null,
   "metadata": {},
   "outputs": [],
   "source": [
    "fig = go.FigureWidget()\n",
    "fig.layout.title = 'Assume_price'\n",
    "fig.add_scatter()\n",
    "fig"
   ]
  },
  {
   "cell_type": "code",
   "execution_count": null,
   "metadata": {},
   "outputs": [],
   "source": [
    "kafka_topic_name = \"ChemEng\"\n",
    "kafka_bootstrap_servers = 'localhost:9092'\n",
    "kafka_bootstrap_servers = 'ec2-13-229-46-113.ap-southeast-1.compute.amazonaws.com:9092'\n",
    "\n",
    "producer = KafkaProducer(bootstrap_servers=[kafka_bootstrap_servers],\n",
    "                         value_serializer=lambda x: \n",
    "                         dumps(x).encode('utf-8'))\n",
    "\n",
    "# r1 = [i for i in range(100,200,10)]\n",
    "# r2 = [i for i in range(1000,1200,10)]\n",
    "# r1.extend(r2)\n",
    "df = pd.DataFrame()\n",
    "ind = 0\n",
    "for i in r1:\n",
    "    data = str(ind)+':'+str(i)\n",
    "    producer.send(kafka_topic_name, value=data)\n",
    "    producer.flush()\n",
    "#     print(ind,i)\n",
    "    df = df.append(pd.DataFrame({'price': i, 'time':ind}, index=[0]))\n",
    "    fig.data[0].x = df.time\n",
    "    fig.data[0].y = df.price\n",
    "    ind+=1\n",
    "    time.sleep(0.1)\n",
    "print(\"producer send done!\",ind)"
   ]
  }
 ],
 "metadata": {
  "kernelspec": {
   "display_name": "Python 3",
   "language": "python",
   "name": "python3"
  },
  "language_info": {
   "codemirror_mode": {
    "name": "ipython",
    "version": 3
   },
   "file_extension": ".py",
   "mimetype": "text/x-python",
   "name": "python",
   "nbconvert_exporter": "python",
   "pygments_lexer": "ipython3",
   "version": "3.8.5"
  }
 },
 "nbformat": 4,
 "nbformat_minor": 4
}
